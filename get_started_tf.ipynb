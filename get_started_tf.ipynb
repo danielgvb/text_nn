{
 "cells": [
  {
   "cell_type": "code",
   "execution_count": null,
   "metadata": {},
   "outputs": [],
   "source": [
    "tf"
   ]
  }
 ],
 "metadata": {
  "kernelspec": {
   "display_name": "gpu",
   "language": "python",
   "name": "gpu"
  }
 },
 "nbformat": 4,
 "nbformat_minor": 4
}
